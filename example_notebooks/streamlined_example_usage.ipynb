{
 "cells": [
  {
   "cell_type": "code",
   "execution_count": 1,
   "id": "52da6d49-2fae-40e2-ac9f-67440922f244",
   "metadata": {},
   "outputs": [],
   "source": [
    "%load_ext autoreload\n",
    "%autoreload 2"
   ]
  },
  {
   "cell_type": "code",
   "execution_count": 2,
   "id": "a9875f50-4314-4b43-8ee0-4b6ee0f3680a",
   "metadata": {},
   "outputs": [],
   "source": [
    "import os\n",
    "import seaborn as sns\n",
    "import rasterio as rio\n",
    "import numpy as np\n",
    "import pandas as pd\n",
    "import matplotlib as mpl\n",
    "import matplotlib.pyplot as plt"
   ]
  },
  {
   "cell_type": "code",
   "execution_count": 3,
   "id": "68092fc1-bdd2-41ab-9bb2-55a2b6fbe6bf",
   "metadata": {},
   "outputs": [],
   "source": [
    "import disco_tif.process_sb_tiff\n",
    "import disco_tif.hillshades_pca\n",
    "#import disco_tif.geotiff_plotting\n",
    "import disco_tif.write_mapfile"
   ]
  },
  {
   "cell_type": "code",
   "execution_count": 4,
   "id": "de64b784-0aa4-4621-85b9-2809861d39da",
   "metadata": {},
   "outputs": [],
   "source": [
    "import datetime\n",
    "def nowTime():\n",
    "    return datetime.datetime.now().strftime(\"%H:%M:%S\")\n",
    "def now():\n",
    "    return datetime.datetime.now().strftime(\"%Y-%m-%d_%H-%M-%S\")\n",
    "def snow():\n",
    "    return datetime.datetime.now().strftime(\"%Y%m%d_%H%M%S\")\n",
    "def today():\n",
    "    return datetime.datetime.now().strftime(\"%Y-%m-%d\")\n",
    "def stoday():\n",
    "    return datetime.datetime.now().strftime(\"%Y%m%d\")"
   ]
  },
  {
   "cell_type": "code",
   "execution_count": 5,
   "id": "994f7268-928b-4320-b6cb-bb7d12d3b35b",
   "metadata": {},
   "outputs": [
    {
     "data": {
      "text/plain": [
       "'/Users/bbloss/EMeraldCodes/disco-tif/example_data/E020N40/E020N40.tif'"
      ]
     },
     "execution_count": 5,
     "metadata": {},
     "output_type": "execute_result"
    }
   ],
   "source": [
    "tiff_dir = os.getcwd()\n",
    "\n",
    "single_band_tiff_path = os.path.abspath('../example_data/E020N40/E020N40.tif')\n",
    "\n",
    "single_band_tiff_path"
   ]
  },
  {
   "cell_type": "code",
   "execution_count": 6,
   "id": "363224cc-c45a-4025-b3cd-9ef6c9e3a9bb",
   "metadata": {},
   "outputs": [
    {
     "name": "stdout",
     "output_type": "stream",
     "text": [
      "\n",
      "GIS software compatible color look up table successfully written to: \n",
      "\t- /Users/bbloss/EMeraldCodes/disco-tif/example_data/E020N40/E020N40_EMeraldCustomTerrain_-28_to_2540_pseudo_linear_qgis_color_table_8-colors_20240517.txt\n",
      "\n",
      "New single-channel colorized geotiff written to: \n",
      "\t- '/Users/bbloss/EMeraldCodes/disco-tif/example_data/E020N40/E020N40_EMeraldCustomTerrain_-28_to_2540_pseudo_linear.tif'\n",
      "\n",
      "\n",
      "GIS software compatible color look up table successfully written to: \n",
      "\t- /Users/bbloss/EMeraldCodes/disco-tif/example_data/E020N40/E020N40_EMeraldCustomTerrain_-28_to_2540_pseudo_hist_norm_qgis_color_table_8-colors_20240517.txt\n",
      "\n",
      "New single-channel colorized geotiff written to: \n",
      "\t- '/Users/bbloss/EMeraldCodes/disco-tif/example_data/E020N40/E020N40_EMeraldCustomTerrain_-28_to_2540_pseudo_hist_norm.tif'\n",
      "\n"
     ]
    }
   ],
   "source": [
    "method_list = ['pseudo_linear', 'pseudo_hist_norm']\n",
    "for method in method_list:\n",
    "    ph_colormap, ph_data_breaks, ph_new_file_paths = disco_tif.process_sb_tiff.make_rgba_tiff_from_single_Band(single_band_tiff_path,\n",
    "                                                                                                               #data_min_max=datarange,\n",
    "                                                                                                               cmap_method=method,\n",
    "                                                                                                               )\n"
   ]
  },
  {
   "cell_type": "code",
   "execution_count": 7,
   "id": "c182c9a2-7a92-400f-9157-2107afbcba70",
   "metadata": {},
   "outputs": [
    {
     "name": "stdout",
     "output_type": "stream",
     "text": [
      "azimuths = [0, 45, 90, 135, 180, 225, 270, 315]\n",
      "altitudes = [30, 60]\n"
     ]
    }
   ],
   "source": [
    "hs_azimuths, hs_altitudes = disco_tif.hillshades_pca.build_hs_az_al(start_az=0, num_az_angles=8)"
   ]
  },
  {
   "cell_type": "code",
   "execution_count": 8,
   "id": "c56c24ae",
   "metadata": {},
   "outputs": [
    {
     "name": "stdout",
     "output_type": "stream",
     "text": [
      "azimuths = [0, 90, 180, 270]\n",
      "altitudes = [30]\n"
     ]
    }
   ],
   "source": [
    "hs_azimuths, hs_altitudes = disco_tif.hillshades_pca.build_hs_az_al(start_az=0, num_az_angles=4, num_al_angles=1)"
   ]
  },
  {
   "cell_type": "code",
   "execution_count": 9,
   "id": "598ee239-9f23-4517-a40b-c5692e30dc77",
   "metadata": {},
   "outputs": [
    {
     "name": "stdout",
     "output_type": "stream",
     "text": [
      "New single-channel geotiff generated successfully: '/Users/bbloss/EMeraldCodes/disco-tif/example_data/E020N40/E020N40_hillshade_az000_al30.tif'\n",
      "New single-channel geotiff generated successfully: '/Users/bbloss/EMeraldCodes/disco-tif/example_data/E020N40/E020N40_hillshade_az090_al30.tif'\n",
      "New single-channel geotiff generated successfully: '/Users/bbloss/EMeraldCodes/disco-tif/example_data/E020N40/E020N40_hillshade_az180_al30.tif'\n",
      "New single-channel geotiff generated successfully: '/Users/bbloss/EMeraldCodes/disco-tif/example_data/E020N40/E020N40_hillshade_az270_al30.tif'\n",
      "New single-channel geotiff generated successfully: '/Users/bbloss/EMeraldCodes/disco-tif/example_data/E020N40/E020N40_hillshade_pca4-component_1.tif'\n",
      "New single-channel geotiff generated successfully: '/Users/bbloss/EMeraldCodes/disco-tif/example_data/E020N40/E020N40_hillshade_pca4-component_2.tif'\n",
      "New single-channel geotiff generated successfully: '/Users/bbloss/EMeraldCodes/disco-tif/example_data/E020N40/E020N40_hillshade_pca4-component_3.tif'\n"
     ]
    }
   ],
   "source": [
    "rasters_dict, filepaths_dict = disco_tif.hillshades_pca.build_hillshade(single_band_tiff_path=single_band_tiff_path,\n",
    "                                                                        data_min_max=[min(ph_data_breaks), max(ph_data_breaks)],\n",
    "                                                                        hs_azimuths=hs_azimuths,\n",
    "                                                                        hs_altitudes=hs_altitudes,\n",
    "                                                                        cmap=ph_colormap,\n",
    "                                                                        process_pca=True)"
   ]
  },
  {
   "cell_type": "raw",
   "id": "e3446749-aeb7-4bc1-941c-ed30be923e03",
   "metadata": {},
   "source": [
    "writeLUTs=True\n",
    "writeTifs=True\n",
    "writeHillshades=True\n",
    "\n",
    "mapfile_path = f\"{single_band_tiff_path.split('.tif')[0]}\"\n",
    "if writeLUTs:\n",
    "    mapfile_path = f\"{mapfile_path}_LUT\"\n",
    "if writeTifs:\n",
    "    mapfile_path = f\"{mapfile_path}_AuxTif\"\n",
    "if writeHillshades:\n",
    "    mapfile_path = f\"{mapfile_path}_HS\"\n",
    "\n",
    "\n",
    "mapfile_path = f\"{mapfile_path}.map\"\n",
    "\n",
    "mapfile_path"
   ]
  },
  {
   "cell_type": "raw",
   "id": "68669ee3-7426-4381-a049-4d5d6d7c02d7",
   "metadata": {},
   "source": [
    "disco_tif.write_mapfile.generate_LUT_based_mapfile(single_band_tiff_path, mapfile_path, writeLUTs=True, writeTifs=True, writeHillshades=True)"
   ]
  },
  {
   "cell_type": "code",
   "execution_count": null,
   "id": "c55f9187-9ea0-49b1-88a1-8aeecbecfffd",
   "metadata": {},
   "outputs": [],
   "source": []
  },
  {
   "cell_type": "code",
   "execution_count": null,
   "id": "375c4215-67f9-4005-a253-e464d467fb27",
   "metadata": {},
   "outputs": [],
   "source": []
  },
  {
   "cell_type": "code",
   "execution_count": null,
   "id": "14980aaf-13e4-4b94-b12f-5976f674b20a",
   "metadata": {},
   "outputs": [],
   "source": []
  },
  {
   "cell_type": "markdown",
   "id": "e3e8943d-87f5-43e8-b8f6-703240259833",
   "metadata": {},
   "source": [
    "# testing area"
   ]
  },
  {
   "cell_type": "code",
   "execution_count": 10,
   "id": "7596011d-3476-470a-a744-c6f0434571ea",
   "metadata": {},
   "outputs": [
    {
     "name": "stdout",
     "output_type": "stream",
     "text": [
      "az000_al30\n",
      "\t[17.149256406630954, 254.77094204141144]\n",
      "az090_al30\n",
      "\t[17.156267048385654, 254.77094204141144]\n",
      "az180_al30\n",
      "\t[17.170083124517966, 254.77094204141144]\n",
      "az270_al30\n",
      "\t[17.147609254184715, 254.77094204141144]\n",
      "component_1\n",
      "\t[-153.2234396432222, 159.08431021749502]\n",
      "component_2\n",
      "\t[-153.54098566374233, 158.7682569039348]\n",
      "component_3\n",
      "\t[-30.57417057082339, 97.36274169121482]\n"
     ]
    }
   ],
   "source": [
    "for key, value in rasters_dict.items():\n",
    "    print(f\"{key}\")\n",
    "    print(f\"\\t[{np.nanmin(value)}, {np.nanmax(value)}]\")"
   ]
  },
  {
   "cell_type": "code",
   "execution_count": null,
   "id": "248abba1-dbc1-428e-a073-552342bdde86",
   "metadata": {},
   "outputs": [],
   "source": []
  }
 ],
 "metadata": {
  "kernelspec": {
   "display_name": "testing_disco_tif_py3.10",
   "language": "python",
   "name": "testing_disco_tif_py3.10"
  },
  "language_info": {
   "codemirror_mode": {
    "name": "ipython",
    "version": 3
   },
   "file_extension": ".py",
   "mimetype": "text/x-python",
   "name": "python",
   "nbconvert_exporter": "python",
   "pygments_lexer": "ipython3",
   "version": "3.10.13"
  }
 },
 "nbformat": 4,
 "nbformat_minor": 5
}
