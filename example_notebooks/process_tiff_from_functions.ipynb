{
 "cells": [
  {
   "cell_type": "code",
   "execution_count": 1,
   "id": "3c0d7093-7a23-4000-9c5d-aab1dafdb85c",
   "metadata": {
    "editable": true,
    "slideshow": {
     "slide_type": ""
    },
    "tags": []
   },
   "outputs": [],
   "source": [
    "%load_ext autoreload\n",
    "%autoreload 2"
   ]
  },
  {
   "cell_type": "code",
   "execution_count": 2,
   "id": "a541e065-539a-4b0e-97d9-2de5b5bf014c",
   "metadata": {
    "editable": true,
    "slideshow": {
     "slide_type": ""
    },
    "tags": []
   },
   "outputs": [],
   "source": [
    "import os\n",
    "import seaborn as sns\n",
    "import rasterio as rio\n",
    "import numpy as np\n",
    "import pandas as pd\n",
    "import matplotlib as mpl\n",
    "import matplotlib.pyplot as plt"
   ]
  },
  {
   "cell_type": "code",
   "execution_count": 4,
   "id": "691710ca-1c8a-4949-a423-55cb86ad0f06",
   "metadata": {},
   "outputs": [],
   "source": [
    "import disco_tif.process_sb_tiff\n",
    "import disco_tif.hillshades_pca\n",
    "import disco_tif.geotiff_plotting\n",
    "import disco_tif.write_mapfile"
   ]
  },
  {
   "cell_type": "code",
   "execution_count": 5,
   "id": "5bfd9e26-82a9-4b3b-bf3a-0f5de9a382ed",
   "metadata": {
    "editable": true,
    "slideshow": {
     "slide_type": ""
    },
    "tags": []
   },
   "outputs": [],
   "source": [
    "import datetime\n",
    "def nowTime():\n",
    "    return datetime.datetime.now().strftime(\"%H:%M:%S\")\n",
    "def now():\n",
    "    return datetime.datetime.now().strftime(\"%Y-%m-%d_%H-%M-%S\")\n",
    "def snow():\n",
    "    return datetime.datetime.now().strftime(\"%Y%m%d_%H%M%S\")\n",
    "def today():\n",
    "    return datetime.datetime.now().strftime(\"%Y-%m-%d\")\n",
    "def stoday():\n",
    "    return datetime.datetime.now().strftime(\"%Y%m%d\")"
   ]
  },
  {
   "cell_type": "markdown",
   "id": "9756198c-50f9-4a49-8aea-b41d8e3f26d0",
   "metadata": {
    "editable": true,
    "slideshow": {
     "slide_type": ""
    },
    "tags": []
   },
   "source": [
    "# grab the hexcolor codes from the file"
   ]
  },
  {
   "cell_type": "code",
   "execution_count": 6,
   "id": "f14ccf10-8138-44c3-aaaa-91afaebcd889",
   "metadata": {},
   "outputs": [
    {
     "data": {
      "text/plain": [
       "['#0000ff',\n",
       " '#01ffff',\n",
       " '#3fca3f',\n",
       " '#f19898',\n",
       " '#deb201',\n",
       " '#896651',\n",
       " '#f1bfff',\n",
       " '#fffafc']"
      ]
     },
     "execution_count": 6,
     "metadata": {},
     "output_type": "execute_result"
    }
   ],
   "source": [
    "EMerald_colors_hex = disco_tif.process_sb_tiff.EMerald_custom_colors_hexcolorcodes\n",
    "EMerald_colors_hex"
   ]
  },
  {
   "cell_type": "code",
   "execution_count": 7,
   "id": "6ae26147-0a11-4f05-8252-8a4607f6b58a",
   "metadata": {},
   "outputs": [
    {
     "data": {
      "text/html": [
       "<svg  width=\"440\" height=\"55\"><rect x=\"0\" y=\"0\" width=\"55\" height=\"55\" style=\"fill:#0000ff;stroke-width:2;stroke:rgb(255,255,255)\"/><rect x=\"55\" y=\"0\" width=\"55\" height=\"55\" style=\"fill:#01ffff;stroke-width:2;stroke:rgb(255,255,255)\"/><rect x=\"110\" y=\"0\" width=\"55\" height=\"55\" style=\"fill:#3fca3f;stroke-width:2;stroke:rgb(255,255,255)\"/><rect x=\"165\" y=\"0\" width=\"55\" height=\"55\" style=\"fill:#f19898;stroke-width:2;stroke:rgb(255,255,255)\"/><rect x=\"220\" y=\"0\" width=\"55\" height=\"55\" style=\"fill:#deb201;stroke-width:2;stroke:rgb(255,255,255)\"/><rect x=\"275\" y=\"0\" width=\"55\" height=\"55\" style=\"fill:#896651;stroke-width:2;stroke:rgb(255,255,255)\"/><rect x=\"330\" y=\"0\" width=\"55\" height=\"55\" style=\"fill:#f1bfff;stroke-width:2;stroke:rgb(255,255,255)\"/><rect x=\"385\" y=\"0\" width=\"55\" height=\"55\" style=\"fill:#fffafc;stroke-width:2;stroke:rgb(255,255,255)\"/></svg>"
      ],
      "text/plain": [
       "[(0.0, 0.0, 1.0),\n",
       " (0.00392156862745098, 1.0, 1.0),\n",
       " (0.24705882352941178, 0.792156862745098, 0.24705882352941178),\n",
       " (0.9450980392156862, 0.596078431372549, 0.596078431372549),\n",
       " (0.8705882352941177, 0.6980392156862745, 0.00392156862745098),\n",
       " (0.5372549019607843, 0.4, 0.3176470588235294),\n",
       " (0.9450980392156862, 0.7490196078431373, 1.0),\n",
       " (1.0, 0.9803921568627451, 0.9882352941176471)]"
      ]
     },
     "execution_count": 7,
     "metadata": {},
     "output_type": "execute_result"
    }
   ],
   "source": [
    "sns.color_palette(EMerald_colors_hex)"
   ]
  },
  {
   "cell_type": "markdown",
   "id": "a3447c75-21d9-4e91-be76-fd2c1b4bb8af",
   "metadata": {
    "editable": true,
    "slideshow": {
     "slide_type": ""
    },
    "tags": []
   },
   "source": [
    "# test hex to rgb functionality"
   ]
  },
  {
   "cell_type": "code",
   "execution_count": 8,
   "id": "d1bb829c-f335-47d2-adc8-50f3a3c57078",
   "metadata": {
    "editable": true,
    "slideshow": {
     "slide_type": ""
    },
    "tags": []
   },
   "outputs": [
    {
     "data": {
      "text/html": [
       "<div>\n",
       "<style scoped>\n",
       "    .dataframe tbody tr th:only-of-type {\n",
       "        vertical-align: middle;\n",
       "    }\n",
       "\n",
       "    .dataframe tbody tr th {\n",
       "        vertical-align: top;\n",
       "    }\n",
       "\n",
       "    .dataframe thead th {\n",
       "        text-align: right;\n",
       "    }\n",
       "</style>\n",
       "<table border=\"1\" class=\"dataframe\">\n",
       "  <thead>\n",
       "    <tr style=\"text-align: right;\">\n",
       "      <th></th>\n",
       "      <th>r</th>\n",
       "      <th>g</th>\n",
       "      <th>b</th>\n",
       "    </tr>\n",
       "  </thead>\n",
       "  <tbody>\n",
       "    <tr>\n",
       "      <th>0</th>\n",
       "      <td>0</td>\n",
       "      <td>0</td>\n",
       "      <td>255</td>\n",
       "    </tr>\n",
       "    <tr>\n",
       "      <th>1</th>\n",
       "      <td>1</td>\n",
       "      <td>255</td>\n",
       "      <td>255</td>\n",
       "    </tr>\n",
       "    <tr>\n",
       "      <th>2</th>\n",
       "      <td>63</td>\n",
       "      <td>202</td>\n",
       "      <td>63</td>\n",
       "    </tr>\n",
       "    <tr>\n",
       "      <th>3</th>\n",
       "      <td>241</td>\n",
       "      <td>152</td>\n",
       "      <td>152</td>\n",
       "    </tr>\n",
       "    <tr>\n",
       "      <th>4</th>\n",
       "      <td>222</td>\n",
       "      <td>178</td>\n",
       "      <td>1</td>\n",
       "    </tr>\n",
       "    <tr>\n",
       "      <th>5</th>\n",
       "      <td>137</td>\n",
       "      <td>102</td>\n",
       "      <td>81</td>\n",
       "    </tr>\n",
       "    <tr>\n",
       "      <th>6</th>\n",
       "      <td>241</td>\n",
       "      <td>191</td>\n",
       "      <td>255</td>\n",
       "    </tr>\n",
       "    <tr>\n",
       "      <th>7</th>\n",
       "      <td>255</td>\n",
       "      <td>250</td>\n",
       "      <td>252</td>\n",
       "    </tr>\n",
       "  </tbody>\n",
       "</table>\n",
       "</div>"
      ],
      "text/plain": [
       "     r    g    b\n",
       "0    0    0  255\n",
       "1    1  255  255\n",
       "2   63  202   63\n",
       "3  241  152  152\n",
       "4  222  178    1\n",
       "5  137  102   81\n",
       "6  241  191  255\n",
       "7  255  250  252"
      ]
     },
     "execution_count": 8,
     "metadata": {},
     "output_type": "execute_result"
    }
   ],
   "source": [
    "EMerald_colors_rgb = pd.DataFrame()\n",
    "for ii in range(0, len(EMerald_colors_hex)):\n",
    "    hexcolor = EMerald_colors_hex[ii]\n",
    "    EMerald_colors_rgb.loc[ii, ['r','g','b']] = disco_tif.process_sb_tiff.hex_to_rgb(hexcolor)[0], \\\n",
    "                                                disco_tif.process_sb_tiff.hex_to_rgb(hexcolor)[1], \\\n",
    "                                                disco_tif.process_sb_tiff.hex_to_rgb(hexcolor)[2]\n",
    "EMerald_colors_rgb"
   ]
  },
  {
   "cell_type": "code",
   "execution_count": 9,
   "id": "5fce21a9-3ed2-4411-bb6a-6ca233b89aed",
   "metadata": {
    "editable": true,
    "slideshow": {
     "slide_type": ""
    },
    "tags": []
   },
   "outputs": [
    {
     "name": "stdout",
     "output_type": "stream",
     "text": [
      "#0000ff\n",
      "#01ffff\n",
      "#3fca3f\n",
      "#f19898\n",
      "#deb201\n",
      "#896651\n",
      "#f1bfff\n",
      "#fffafc\n"
     ]
    }
   ],
   "source": [
    "#ii=1\n",
    "for ii in range(0,len(EMerald_colors_rgb)):\n",
    "    print(disco_tif.process_sb_tiff.rgb_to_hex(EMerald_colors_rgb.loc[ii, 'r'], EMerald_colors_rgb.loc[ii, 'g'], EMerald_colors_rgb.loc[ii, 'b']))"
   ]
  },
  {
   "cell_type": "markdown",
   "id": "66994a3d-fe34-46bf-9c4b-541ce5b8ec18",
   "metadata": {
    "editable": true,
    "slideshow": {
     "slide_type": ""
    },
    "tags": []
   },
   "source": [
    "# define single-band geotiff"
   ]
  },
  {
   "cell_type": "code",
   "execution_count": 10,
   "id": "bf207e46-7f92-49af-bc3b-ab064f3ee8e9",
   "metadata": {},
   "outputs": [
    {
     "data": {
      "text/plain": [
       "'/Users/bbloss/EMeraldCodes/disco-tif/example_data/E020N40/E020N40.tif'"
      ]
     },
     "execution_count": 10,
     "metadata": {},
     "output_type": "execute_result"
    }
   ],
   "source": [
    "tiff_dir = os.getcwd()\n",
    "\n",
    "single_band_tiff_path = os.path.abspath('../example_data/E020N40/E020N40.tif')\n",
    "\n",
    "single_band_tiff_path"
   ]
  },
  {
   "cell_type": "markdown",
   "id": "0c05920d-ba88-4ea9-ad10-7f982788b741",
   "metadata": {
    "editable": true,
    "slideshow": {
     "slide_type": ""
    },
    "tags": []
   },
   "source": [
    "# inspect colormap generator function"
   ]
  },
  {
   "cell_type": "code",
   "execution_count": 11,
   "id": "4f0ec3f3-aa67-4381-9701-299649819c87",
   "metadata": {
    "editable": true,
    "slideshow": {
     "slide_type": ""
    },
    "tags": []
   },
   "outputs": [
    {
     "name": "stdout",
     "output_type": "stream",
     "text": [
      "no_data_value = -9999.0\n",
      "data_min_max = [-407, 5825]\n",
      "epsg_code = 4326\n",
      "src.crs = EPSG:4326\n",
      "origprofile = {'driver': 'GTiff', 'dtype': 'int16', 'nodata': -9999.0, 'width': 4800, 'height': 6000, 'count': 1, 'crs': CRS.from_epsg(4326), 'transform': Affine(0.008333333333330003, 0.0, 20.000000000000004,\n",
      "       0.0, -0.00833333333333, 39.99999999999999), 'blockysize': 1, 'tiled': False, 'compress': 'lzw', 'interleave': 'band'}\n",
      "mask = [[255 255 255 ... 255 255 255]\n",
      " [255 255 255 ... 255 255 255]\n",
      " [255 255 255 ... 255 255 255]\n",
      " ...\n",
      " [255 255 255 ...   0   0   0]\n",
      " [255 255 255 ...   0   0   0]\n",
      " [255 255 255 ...   0   0   0]]\n"
     ]
    }
   ],
   "source": [
    "# read data and minimally process for the colormap function\n",
    "with rio.open(single_band_tiff_path, 'r') as src:\n",
    "    data = src.read(1)  # Read the first band\n",
    "    no_data_value = src.nodata  # Get the no-data value from the GeoTIFF\n",
    "    epsg_code = src.crs.to_epsg() if src.crs else None\n",
    "    origprofile = src.profile\n",
    "    data_min_max = [np.min(data[data!=no_data_value]), np.max(data)]\n",
    "    mask = src.read_masks(1)\n",
    "\n",
    "print(f\"no_data_value = {no_data_value}\")\n",
    "print(f\"data_min_max = {data_min_max}\")\n",
    "print(f\"epsg_code = {epsg_code}\")\n",
    "print(f\"src.crs = {src.crs}\")\n",
    "print(f\"origprofile = {origprofile}\")\n",
    "print(f\"mask = {mask}\")"
   ]
  },
  {
   "cell_type": "code",
   "execution_count": 12,
   "id": "076ccad1-3f6f-48d6-ad01-a86e78496e41",
   "metadata": {},
   "outputs": [
    {
     "data": {
      "text/plain": [
       "[-407, 5825]"
      ]
     },
     "execution_count": 12,
     "metadata": {},
     "output_type": "execute_result"
    }
   ],
   "source": [
    "datarange = data_min_max\n",
    "datarange"
   ]
  },
  {
   "cell_type": "code",
   "execution_count": 13,
   "id": "9cf820d4-68f4-4c7e-8d3f-34afa3207978",
   "metadata": {
    "editable": true,
    "slideshow": {
     "slide_type": ""
    },
    "tags": []
   },
   "outputs": [
    {
     "data": {
      "text/plain": [
       "[-28, 2540]"
      ]
     },
     "execution_count": 13,
     "metadata": {},
     "output_type": "execute_result"
    }
   ],
   "source": [
    "# dataranges to test\n",
    "#datarange = [-1, 2000]\n",
    "#datarange = [-1, 4000]\n",
    "datarange = [-28, 2540]\n",
    "#datarange = [-285, 4000]\n",
    "#datarange = [-400, 400]\n",
    "#datarange = [-400, 0]\n",
    "#datarange = [-400, -1]\n",
    "#datarange = [-249, 6]\n",
    "#datarange = [0, 5000]\n",
    "#datarange = [0, 500]\n",
    "#datarange = [0, 255]\n",
    "#datarange = [0, 60]\n",
    "#datarange = [0, 54]\n",
    "#datarange = [1, 1500]\n",
    "#datarange = [1000, 5000]\n",
    "#datarange = [200, 100]\n",
    "#datarange = [100, 200]\n",
    "#datarange = [44, 255]\n",
    "#datarange = [-200, 200]\n",
    "\n",
    "datarange"
   ]
  },
  {
   "cell_type": "code",
   "execution_count": 14,
   "id": "8ea4dcc0-8574-4e2e-b5ed-29c15b11bf12",
   "metadata": {},
   "outputs": [
    {
     "data": {
      "text/plain": [
       "-407.0"
      ]
     },
     "execution_count": 14,
     "metadata": {},
     "output_type": "execute_result"
    }
   ],
   "source": [
    "data_with_nan = data.copy().astype(float)\n",
    "if no_data_value is not None:\n",
    "    data_with_nan[data==no_data_value]=np.nan\n",
    "\n",
    "np.nanmin(data_with_nan)"
   ]
  },
  {
   "cell_type": "code",
   "execution_count": 15,
   "id": "5cec6e21-9cb7-4c04-a76b-fe6ea6469c93",
   "metadata": {},
   "outputs": [
    {
     "data": {
      "image/png": "[encoded data removed]",
      "text/plain": [
       "<Figure size 640x480 with 1 Axes>"
      ]
     },
     "metadata": {},
     "output_type": "display_data"
    }
   ],
   "source": [
    "# Clip data values to the specified range\n",
    "clipped_data = np.clip(data, datarange[0], datarange[1])\n",
    "\n",
    "# un-clip the orig_data with no_data_vaules to exclude from the perenctile calculations\n",
    "clipped_data_with_dum = clipped_data.copy()\n",
    "if no_data_value is not None:\n",
    "    clipped_data_with_dum[data==no_data_value] = no_data_value\n",
    "\n",
    "\n",
    "plt.hist(clipped_data_with_dum.flatten().flatten(), bins=min(datarange[1]-datarange[0], 100))\n",
    "plt.show()"
   ]
  },
  {
   "cell_type": "code",
   "execution_count": 16,
   "id": "945b6223-cd71-429a-a09a-c77b284cc8fd",
   "metadata": {
    "editable": true,
    "slideshow": {
     "slide_type": ""
    },
    "tags": []
   },
   "outputs": [
    {
     "name": "stdout",
     "output_type": "stream",
     "text": [
      "datarange = [-28, 2540]\n"
     ]
    },
    {
     "ename": "TypeError",
     "evalue": "'module' object is not callable",
     "output_type": "error",
     "traceback": [
      "\u001b[0;31m---------------------------------------------------------------------------\u001b[0m",
      "\u001b[0;31mTypeError\u001b[0m                                 Traceback (most recent call last)",
      "Cell \u001b[0;32mIn[16], line 5\u001b[0m\n\u001b[1;32m      2\u001b[0m ph_cmap_method \u001b[38;5;241m=\u001b[39m \u001b[38;5;124m'\u001b[39m\u001b[38;5;124mpseudo_hist_norm\u001b[39m\u001b[38;5;124m'\u001b[39m\n\u001b[1;32m      4\u001b[0m \u001b[38;5;28mprint\u001b[39m(\u001b[38;5;124mf\u001b[39m\u001b[38;5;124m\"\u001b[39m\u001b[38;5;124mdatarange = \u001b[39m\u001b[38;5;132;01m{\u001b[39;00mdatarange\u001b[38;5;132;01m}\u001b[39;00m\u001b[38;5;124m\"\u001b[39m)\n\u001b[0;32m----> 5\u001b[0m breaks_data \u001b[38;5;241m=\u001b[39m \u001b[43mdisco_tif\u001b[49m\u001b[38;5;241;43m.\u001b[39;49m\u001b[43mprocess_sb_tiff\u001b[49m\u001b[38;5;241;43m.\u001b[39;49m\u001b[43mmake_percentile_array\u001b[49m\u001b[43m(\u001b[49m\u001b[43mdata_min_max\u001b[49m\u001b[38;5;241;43m=\u001b[39;49m\u001b[43mdatarange\u001b[49m\u001b[43m,\u001b[49m\n\u001b[1;32m      6\u001b[0m \u001b[43m                                                              \u001b[49m\u001b[43mdata\u001b[49m\u001b[38;5;241;43m=\u001b[39;49m\u001b[43mdata\u001b[49m\u001b[43m,\u001b[49m\n\u001b[1;32m      7\u001b[0m \u001b[43m                                                              \u001b[49m\u001b[43mno_data_value\u001b[49m\u001b[38;5;241;43m=\u001b[39;49m\u001b[43mno_data_value\u001b[49m\u001b[43m,\u001b[49m\n\u001b[1;32m      8\u001b[0m \u001b[43m                                                              \u001b[49m\u001b[43mcmap_method\u001b[49m\u001b[38;5;241;43m=\u001b[39;49m\u001b[43mph_cmap_method\u001b[49m\u001b[43m,\u001b[49m\n\u001b[1;32m      9\u001b[0m \u001b[43m                                                              \u001b[49m\u001b[43mplot_histograms\u001b[49m\u001b[38;5;241;43m=\u001b[39;49m\u001b[38;5;28;43;01mTrue\u001b[39;49;00m\u001b[43m)\u001b[49m\n\u001b[1;32m     10\u001b[0m \u001b[38;5;28mprint\u001b[39m(\u001b[38;5;124mf\u001b[39m\u001b[38;5;124m\"\u001b[39m\u001b[38;5;124mbreaks_data = \u001b[39m\u001b[38;5;132;01m{\u001b[39;00mbreaks_data\u001b[38;5;132;01m}\u001b[39;00m\u001b[38;5;124m\"\u001b[39m)\n\u001b[1;32m     11\u001b[0m ph_percentile_breaks \u001b[38;5;241m=\u001b[39m (np\u001b[38;5;241m.\u001b[39marray(breaks_data) \u001b[38;5;241m-\u001b[39m datarange[\u001b[38;5;241m0\u001b[39m]) \u001b[38;5;241m/\u001b[39m (datarange[\u001b[38;5;241m1\u001b[39m] \u001b[38;5;241m-\u001b[39m datarange[\u001b[38;5;241m0\u001b[39m])\n",
      "File \u001b[0;32m~/EMeraldCodes/disco-tif/disco_tif/process_sb_tiff.py:155\u001b[0m, in \u001b[0;36mmake_percentile_array\u001b[0;34m(data_min_max, data, no_data_value, cmap_method, color_list, plot_histograms)\u001b[0m\n\u001b[1;32m    135\u001b[0m \u001b[38;5;250m    \u001b[39m\u001b[38;5;124;03m\"\"\"Function to build a data driven percentile array based on the cmap method specified.\u001b[39;00m\n\u001b[1;32m    136\u001b[0m \u001b[38;5;124;03mInput Parameters:\u001b[39;00m\n\u001b[1;32m    137\u001b[0m \u001b[38;5;124;03m    - data_min_max: list containing the minimum and maximum values to display. values outside this range will be saturated to the end members.\u001b[39;00m\n\u001b[0;32m   (...)\u001b[0m\n\u001b[1;32m    152\u001b[0m \u001b[38;5;124;03m        Default:  False\u001b[39;00m\n\u001b[1;32m    153\u001b[0m \u001b[38;5;124;03m    \"\"\"\u001b[39;00m\n\u001b[1;32m    154\u001b[0m     \u001b[38;5;28;01mif\u001b[39;00m color_list \u001b[38;5;129;01mis\u001b[39;00m \u001b[38;5;28;01mNone\u001b[39;00m:\n\u001b[0;32m--> 155\u001b[0m         color_list \u001b[38;5;241m=\u001b[39m \u001b[43mcopy\u001b[49m\u001b[43m(\u001b[49m\u001b[43mEMerald_custom_colors_hexcolorcodes\u001b[49m\u001b[43m)\u001b[49m\n\u001b[1;32m    156\u001b[0m     \u001b[38;5;28;01melse\u001b[39;00m:\n\u001b[1;32m    157\u001b[0m         color_list \u001b[38;5;241m=\u001b[39m copy(color_list)\n",
      "\u001b[0;31mTypeError\u001b[0m: 'module' object is not callable"
     ]
    }
   ],
   "source": [
    "# make percentile ranges for pseudo_hist_norm\n",
    "ph_cmap_method = 'pseudo_hist_norm'\n",
    "\n",
    "print(f\"datarange = {datarange}\")\n",
    "breaks_data = disco_tif.process_sb_tiff.make_percentile_array(data_min_max=datarange,\n",
    "                                                              data=data,\n",
    "                                                              no_data_value=no_data_value,\n",
    "                                                              cmap_method=ph_cmap_method,\n",
    "                                                              plot_histograms=True)\n",
    "print(f\"breaks_data = {breaks_data}\")\n",
    "ph_percentile_breaks = (np.array(breaks_data) - datarange[0]) / (datarange[1] - datarange[0])\n",
    "print(f\"ph_percentile_breaks = {ph_percentile_breaks}\")\n",
    "EMeraldCustomColorMap = disco_tif.process_sb_tiff.build_EMerald_terrain_colormap(ph_percentile_breaks)\n",
    "EMeraldCustomColorMap"
   ]
  },
  {
   "cell_type": "code",
   "execution_count": null,
   "id": "e91bd551-40a2-4c52-9790-2db9d78e072b",
   "metadata": {
    "editable": true,
    "slideshow": {
     "slide_type": ""
    },
    "tags": []
   },
   "outputs": [],
   "source": [
    "# make percentile ranges for pseudo_linear\n",
    "pl_cmap_method = 'pseudo_linear'\n",
    "\n",
    "print(f\"datarange = {datarange}\")\n",
    "breaks_data = disco_tif.process_sb_tiff.make_percentile_array(data_min_max=datarange,\n",
    "                                                              data=data,\n",
    "                                                              no_data_value=no_data_value,\n",
    "                                                              cmap_method=pl_cmap_method,\n",
    "                                                              plot_histograms=True)\n",
    "print(breaks_data)\n",
    "pl_percentile_breaks = (np.array(breaks_data) - datarange[0]) / (datarange[1] - datarange[0])\n",
    "print(f\"pl_percentile_breaks = {pl_percentile_breaks}\")\n",
    "EMeraldCustomColorMap = disco_tif.process_sb_tiff.build_EMerald_terrain_colormap(pl_percentile_breaks)\n",
    "EMeraldCustomColorMap"
   ]
  },
  {
   "cell_type": "markdown",
   "id": "fdb881d3-b417-4865-8a8c-e96b674b8ff6",
   "metadata": {},
   "source": [
    "# make look up tables from percentile breaks"
   ]
  },
  {
   "cell_type": "code",
   "execution_count": null,
   "id": "f0e228c6-4971-4ac1-b771-213285439395",
   "metadata": {},
   "outputs": [],
   "source": [
    "data_breaks = ph_data_breaks\n",
    "cmap_method = ph_colormap\n",
    "\n",
    "#data_breaks = pl_data_breaks\n",
    "#cmap_method = pl_colormap\n",
    "\n",
    "lut_no_data_value = no_data_value\n",
    "lut_no_data_value = None\n",
    "\n",
    "write_short_files = True\n",
    "\n",
    "sbpath, ext = os.path.splitext(single_band_tiff_path)\n",
    "suffix = f\"EMeraldCustomColors_{datarange[0]}_to_{datarange[1]}_{cmap_method}\"\n",
    "lut_outpath_base = f\"{sbpath}_{suffix}\""
   ]
  },
  {
   "cell_type": "code",
   "execution_count": null,
   "id": "90e8b75a-0965-4945-83bd-fd7f41617490",
   "metadata": {},
   "outputs": [],
   "source": [
    "## generate_QGIS_lut:\n",
    "disco_tif.look_up_tables.rast_dat_to_QGIS_lut(cmap=EMerald_colors_hex,\n",
    "                                              data_breaks=data_breaks,\n",
    "                                              dtype=data[0, 0].dtype,\n",
    "                                              output_GIS_lut_path=lut_outpath_base,\n",
    "                                              path_to_orig_geotiff=single_band_tiff_path,\n",
    "                                              short_file=write_short_files,\n",
    "                                              print_to_screen=True)"
   ]
  },
  {
   "cell_type": "code",
   "execution_count": null,
   "id": "631684b6-be4c-40e8-aaf8-e09b79b547b5",
   "metadata": {},
   "outputs": [],
   "source": [
    "## generate_rgba_luts\n",
    "# single channel - mulitple files\n",
    "disco_tif.look_up_tables.rast_dat_to_single_channel_rgba_luts(cmap=EMerald_colors_hex,\n",
    "                                                              data_breaks=data_breaks,\n",
    "                                                              dtype=data[0, 0].dtype,\n",
    "                                                              no_data_value=lut_no_data_value,\n",
    "                                                              lut_outpath_base=lut_outpath_base,\n",
    "                                                              short_file=write_short_files,\n",
    "                                                              print_to_screen=True)\n",
    "# mulitple channels - single file\n",
    "disco_tif.look_up_tables.rast_dat_to_multi_channel_rgba_lut(cmap=EMerald_colors_hex,\n",
    "                                                            data_breaks=data_breaks,\n",
    "                                                            dtype=data[0, 0].dtype,\n",
    "                                                            no_data_value=lut_no_data_value,\n",
    "                                                            lut_outpath_base=lut_outpath_base,\n",
    "                                                            single_band_tiff_path=None,\n",
    "                                                            short_file=write_short_files,\n",
    "                                                            print_to_screen=True)"
   ]
  },
  {
   "cell_type": "code",
   "execution_count": null,
   "id": "7a1606e8-1b5e-4cfc-b55e-6aa824bb3561",
   "metadata": {},
   "outputs": [],
   "source": [
    "## generate_data_uint8_lut:\n",
    "disco_tif.look_up_tables.data_to_uint8_lut(data_breaks=data_breaks,\n",
    "                                           no_data_value=lut_no_data_value,\n",
    "                                           lut_outpath_base=lut_outpath_base,\n",
    "                                           print_to_screen=True)"
   ]
  },
  {
   "cell_type": "code",
   "execution_count": null,
   "id": "c0e7cdbe-f327-4580-9443-ec38c696566c",
   "metadata": {},
   "outputs": [],
   "source": [
    "## generate_uint8_luts:\n",
    "disco_tif.look_up_tables.uint8dat_to_single_channel_rgba_luts(cmap=EMerald_colors_hex,\n",
    "                                                              data_breaks=data_breaks,\n",
    "                                                              dtype=data[0, 0].dtype,\n",
    "                                                              no_data_value=lut_no_data_value,\n",
    "                                                              lut_outpath_base=lut_outpath_base,\n",
    "                                                              short_file=write_short_files,\n",
    "                                                              print_to_screen=True)\n",
    "disco_tif.look_up_tables.uint8dat_to_multi_channel_rgba_lut(cmap=EMerald_colors_hex,\n",
    "                                                            data_breaks=data_breaks,\n",
    "                                                            dtype=data[0, 0].dtype,\n",
    "                                                            no_data_value=lut_no_data_value,\n",
    "                                                            lut_outpath_base=lut_outpath_base,\n",
    "                                                            single_band_tiff_path=None,\n",
    "                                                            short_file=write_short_files,\n",
    "                                                            print_to_screen=True)"
   ]
  },
  {
   "cell_type": "markdown",
   "id": "85db2e91-4359-4946-b962-9e0ecc24e793",
   "metadata": {
    "editable": true,
    "slideshow": {
     "slide_type": ""
    },
    "tags": []
   },
   "source": [
    "# convert single-band geotiff to rgba geotiff"
   ]
  },
  {
   "cell_type": "code",
   "execution_count": null,
   "id": "8b2f39d8-8022-41bd-a2e8-35d75203a1a8",
   "metadata": {},
   "outputs": [],
   "source": [
    "output_tif = None\n",
    "output_tif = 'single_band_rgba' # default\n",
    "#output_tif = 'multi_band_rgba'\n",
    "\n",
    "output_QGIS_lut = True # defualt\n",
    "#output_QGIS_lut = False\n",
    "output_rgba_lut = True\n",
    "#output_rgba_lut = False # defualt\n",
    "output_uint8_lut = True\n",
    "#output_uint8_lut = False # defualt\n",
    "\n",
    "plot_rgba_raster = True\n",
    "#plot_rgba_raster = False # defualt"
   ]
  },
  {
   "cell_type": "code",
   "execution_count": null,
   "id": "0012929e-9e10-4aa0-8783-ea4e61335db3",
   "metadata": {},
   "outputs": [],
   "source": [
    "data_min_max=None # defualt\n",
    "\n",
    "min_max_method='percentile' # defualt\n",
    "\n",
    "clip_perc=[1, 99] # defualt\n",
    "\n",
    "color_palette_name=None # defualt"
   ]
  },
  {
   "cell_type": "code",
   "execution_count": null,
   "id": "8d8868fb-4598-426a-a2df-a95ff1846ea5",
   "metadata": {
    "editable": true,
    "slideshow": {
     "slide_type": ""
    },
    "tags": []
   },
   "outputs": [],
   "source": [
    "cmap_method='pseudo_hist_norm' # defualt\n",
    "\n",
    "ph_colormap, ph_data_breaks = disco_tif.process_sb_tiff.make_rgba_tiff_from_single_Band(single_band_tiff_path,\n",
    "                                                                                        #data_min_max=datarange,\n",
    "                                                                                        data_min_max=data_min_max,\n",
    "                                                                                        cmap_method=cmap_method,\n",
    "                                                                                        min_max_method=min_max_method,\n",
    "                                                                                        clip_perc=clip_perc,\n",
    "                                                                                        color_palette_name=color_palette_name,\n",
    "                                                                                        output_tif=output_tif,\n",
    "                                                                                        generate_QGIS_lut=output_QGIS_lut,\n",
    "                                                                                        generate_rgba_luts=output_rgba_lut,\n",
    "                                                                                        generate_data_uint8_lut=output_uint8_lut,\n",
    "                                                                                        generate_uint8_luts=output_uint8_lut,\n",
    "                                                                                        plot_rgba_raster=plot_rgba_raster)\n",
    "\n",
    "print(f\"ph_data_breaks = {ph_data_breaks}\")"
   ]
  },
  {
   "cell_type": "code",
   "execution_count": null,
   "id": "72be4855",
   "metadata": {
    "editable": true,
    "slideshow": {
     "slide_type": ""
    },
    "tags": []
   },
   "outputs": [],
   "source": [
    "cmap_method='pseudo_linear'\n",
    "\n",
    "pl_colormap, pl_data_breaks = disco_tif.process_sb_tiff.make_rgba_tiff_from_single_Band(single_band_tiff_path,\n",
    "                                                                                        #data_min_max=datarange,\n",
    "                                                                                        data_min_max=data_min_max,\n",
    "                                                                                        cmap_method=cmap_method,\n",
    "                                                                                        min_max_method=min_max_method,\n",
    "                                                                                        clip_perc=clip_perc,\n",
    "                                                                                        color_palette_name=color_palette_name,\n",
    "                                                                                        output_tif=output_tif,\n",
    "                                                                                        generate_QGIS_lut=output_QGIS_lut,\n",
    "                                                                                        generate_rgba_luts=output_rgba_lut,\n",
    "                                                                                        generate_data_uint8_lut=output_uint8_lut,\n",
    "                                                                                        generate_uint8_luts=output_uint8_lut,\n",
    "                                                                                        plot_rgba_raster=plot_rgba_raster)\n",
    "\n",
    "print(f\"pl_data_breaks = {pl_data_breaks}\")"
   ]
  },
  {
   "cell_type": "markdown",
   "id": "11cb9ff9-7477-4aa4-bf04-544e8c3d1e30",
   "metadata": {
    "editable": true,
    "slideshow": {
     "slide_type": ""
    },
    "tags": []
   },
   "source": [
    "# build bit for hillshades"
   ]
  },
  {
   "cell_type": "code",
   "execution_count": null,
   "id": "4f6b88ef-7cc5-4861-8f52-6699592b9267",
   "metadata": {},
   "outputs": [],
   "source": [
    "# valid azimuths = [0 : 360]\n",
    "start_az = 90\n",
    "#num_az_angles = 8\n",
    "num_az_angles = 4\n",
    "\n",
    "# valid alitudes = [0 : 90]\n",
    "start_al = 30\n",
    "al_inc = 30\n",
    "#num_al_angles = 2\n",
    "num_al_angles = 1"
   ]
  },
  {
   "cell_type": "code",
   "execution_count": null,
   "id": "9e3e7f2f-ac10-4d1a-bc43-f18db89e55d5",
   "metadata": {},
   "outputs": [],
   "source": [
    "hs_azimuths, hs_altitudes = disco_tif.hillshades_pca.build_hs_az_al(start_al=start_al, al_inc=al_inc, num_al_angles=num_al_angles, start_az=start_az, num_az_angles=num_az_angles)"
   ]
  },
  {
   "cell_type": "code",
   "execution_count": null,
   "id": "8917c26b-ca77-4447-90ea-eec97d2def41",
   "metadata": {},
   "outputs": [],
   "source": [
    "data_min_max = [min(ph_data_breaks), max(ph_data_breaks)]\n",
    "data_min_max"
   ]
  },
  {
   "cell_type": "code",
   "execution_count": null,
   "id": "0ae7992e-6f11-4927-aba2-5682cd3b7875",
   "metadata": {},
   "outputs": [],
   "source": [
    "hillshades = disco_tif.hillshades_pca.build_hillshade(single_band_tiff_path,\n",
    "                                                               data_min_max,\n",
    "                                                               hs_azimuths=[270],\n",
    "                                                               hs_altitudes=[45],\n",
    "                                                               #cmap=ph_colormap,\n",
    "                                                               cmap=pl_colormap,\n",
    "                                                               process_pca=False,\n",
    "                                                               plot_figures = True)"
   ]
  },
  {
   "cell_type": "code",
   "execution_count": null,
   "id": "1aa7eec3-8ea8-4d74-92de-72eb5a7c3ea8",
   "metadata": {},
   "outputs": [],
   "source": [
    "hillshades, pcaComponents = disco_tif.hillshades_pca.build_hillshade(single_band_tiff_path,\n",
    "                                                                              data_min_max,\n",
    "                                                                              hs_azimuths,\n",
    "                                                                              hs_altitudes,\n",
    "                                                                              cmap=ph_colormap,\n",
    "                                                                              process_pca=True,\n",
    "                                                                              plot_figures=True)"
   ]
  },
  {
   "cell_type": "markdown",
   "id": "7f57e1ce-b984-41c0-9601-7ca90b012e3f",
   "metadata": {
    "editable": true,
    "slideshow": {
     "slide_type": ""
    },
    "tags": []
   },
   "source": [
    "# write a mapsource mapfile filename and write the mapfile"
   ]
  },
  {
   "cell_type": "code",
   "execution_count": null,
   "id": "42e03f51-03a4-4581-b6e5-85862619f454",
   "metadata": {},
   "outputs": [],
   "source": [
    "writeLUTs=True\n",
    "writeTifs=True\n",
    "writeHillshades=True"
   ]
  },
  {
   "cell_type": "code",
   "execution_count": null,
   "id": "7a30d2a8-1d98-46b3-b675-b99265d2fc8e",
   "metadata": {},
   "outputs": [],
   "source": [
    "mapfile_path = f\"{single_band_tiff_path.split('.tif')[0]}\"\n",
    "if writeLUTs:\n",
    "    mapfile_path = f\"{mapfile_path}_LUT\"\n",
    "if writeTifs:\n",
    "    mapfile_path = f\"{mapfile_path}_AuxTif\"\n",
    "if writeHillshades:\n",
    "    mapfile_path = f\"{mapfile_path}_HS\"\n",
    "\n",
    "\n",
    "mapfile_path = f\"{mapfile_path}.map\"\n",
    "\n",
    "mapfile_path"
   ]
  },
  {
   "cell_type": "code",
   "execution_count": null,
   "id": "82b51623-b66b-4685-9e75-57f9a6f17b7b",
   "metadata": {
    "editable": true,
    "scrolled": true,
    "slideshow": {
     "slide_type": ""
    },
    "tags": []
   },
   "outputs": [],
   "source": [
    "disco_tif.write_mapfile.generate_LUT_based_mapfile(single_band_tiff_path, mapfile_path, writeLUTs=writeLUTs, writeTifs=writeTifs, writeHillshades=writeHillshades)"
   ]
  },
  {
   "cell_type": "code",
   "execution_count": null,
   "id": "0ed14714-fd60-4cf6-b83d-0e0143c81dfd",
   "metadata": {},
   "outputs": [],
   "source": []
  },
  {
   "cell_type": "code",
   "execution_count": null,
   "id": "ea772e86-ee4c-4a10-a53f-df8a1470591c",
   "metadata": {},
   "outputs": [],
   "source": []
  },
  {
   "cell_type": "code",
   "execution_count": null,
   "id": "09864103-fafa-4d1a-b17a-db4346d54b8f",
   "metadata": {},
   "outputs": [],
   "source": []
  },
  {
   "cell_type": "code",
   "execution_count": null,
   "id": "282bc1c5-7625-4c95-9a5d-3a952cb62067",
   "metadata": {},
   "outputs": [],
   "source": []
  },
  {
   "cell_type": "code",
   "execution_count": null,
   "id": "84015a25-0b25-45de-8e76-96ff6b433009",
   "metadata": {},
   "outputs": [],
   "source": []
  },
  {
   "cell_type": "code",
   "execution_count": null,
   "id": "e8dd89e5-f21e-4eeb-b819-d1f8db4ef3f2",
   "metadata": {},
   "outputs": [],
   "source": []
  },
  {
   "cell_type": "code",
   "execution_count": null,
   "id": "f9887e08-12d7-4d16-8eb5-10d7fe18bddf",
   "metadata": {},
   "outputs": [],
   "source": [
    "mapdict = {0: (0, 0, 255, 255), 1: (0, 85, 255, 255), 2: (1, 170, 255, 255), 3: (1, 255, 255, 255), 4: (4, 253, 247, 255), 5: (6, 251, 239, 255), 6: (9, 248, 231, 255), 7: (11, 246, 223, 255), 8: (14, 244, 215, 255), 9: (16, 242, 207, 255), 10: (19, 240, 199, 255), 11: (22, 237, 191, 255), 12: (24, 235, 183, 255), 13: (27, 233, 175, 255), 14: (29, 231, 167, 255), 15: (32, 228, 159, 255), 16: (35, 226, 151, 255), 17: (37, 224, 143, 255), 18: (40, 222, 135, 255), 19: (42, 220, 127, 255), 20: (45, 217, 119, 255), 21: (48, 215, 111, 255), 22: (50, 213, 103, 255), 23: (53, 211, 95, 255), 24: (55, 209, 87, 255), 25: (58, 206, 79, 255), 26: (60, 204, 71, 255), 27: (63, 202, 63, 255), 28: (72, 199, 68, 255), 29: (82, 197, 72, 255), 30: (91, 194, 77, 255), 31: (100, 191, 82, 255), 32: (110, 189, 86, 255), 33: (119, 186, 91, 255), 34: (129, 184, 96, 255), 35: (138, 181, 100, 255), 36: (147, 178, 105, 255), 37: (157, 176, 110, 255), 38: (166, 173, 115, 255), 39: (175, 170, 119, 255), 40: (185, 168, 124, 255), 41: (194, 165, 129, 255), 42: (204, 163, 133, 255), 43: (213, 160, 138, 255), 44: (222, 157, 143, 255), 45: (232, 155, 147, 255), 46: (241, 152, 152, 255), 47: (240, 154, 143, 255), 48: (239, 155, 133, 255), 49: (237, 157, 124, 255), 50: (236, 158, 114, 255), 51: (235, 160, 105, 255), 52: (234, 162, 95, 255), 53: (233, 163, 86, 255), 54: (232, 165, 76, 255), 55: (230, 167, 67, 255), 56: (229, 168, 58, 255), 57: (228, 170, 48, 255), 58: (227, 172, 39, 255), 59: (226, 173, 29, 255), 60: (224, 175, 20, 255), 61: (223, 176, 10, 255), 62: (222, 178, 1, 255), 63: (218, 175, 4, 255), 64: (215, 172, 8, 255), 65: (211, 168, 11, 255), 66: (208, 165, 14, 255), 67: (204, 162, 18, 255), 68: (201, 159, 21, 255), 69: (197, 156, 24, 255), 70: (194, 153, 28, 255), 71: (190, 150, 31, 255), 72: (187, 146, 34, 255), 73: (183, 143, 38, 255), 74: (180, 140, 41, 255), 75: (176, 137, 44, 255), 76: (172, 134, 48, 255), 77: (169, 130, 51, 255), 78: (165, 127, 54, 255), 79: (162, 124, 58, 255), 80: (158, 121, 61, 255), 81: (155, 118, 64, 255), 82: (151, 115, 68, 255), 83: (148, 112, 71, 255), 84: (144, 108, 74, 255), 85: (141, 105, 78, 255), 86: (137, 102, 81, 255), 87: (140, 104, 86, 255), 88: (143, 107, 90, 255), 89: (145, 109, 95, 255), 90: (148, 112, 100, 255), 91: (151, 114, 105, 255), 92: (154, 116, 109, 255), 93: (157, 119, 114, 255), 94: (159, 121, 119, 255), 95: (162, 124, 123, 255), 96: (165, 126, 128, 255), 97: (168, 128, 133, 255), 98: (171, 131, 137, 255), 99: (174, 133, 142, 255), 100: (176, 136, 147, 255), 101: (179, 138, 152, 255), 102: (182, 140, 156, 255), 103: (185, 143, 161, 255), 104: (188, 145, 166, 255), 105: (190, 148, 170, 255), 106: (193, 150, 175, 255), 107: (196, 153, 180, 255), 108: (199, 155, 184, 255), 109: (202, 157, 189, 255), 110: (204, 160, 194, 255), 111: (207, 162, 199, 255), 112: (210, 165, 203, 255), 113: (213, 167, 208, 255), 114: (216, 169, 213, 255), 115: (219, 172, 217, 255), 116: (221, 174, 222, 255), 117: (224, 177, 227, 255), 118: (227, 179, 231, 255), 119: (230, 181, 236, 255), 120: (233, 184, 241, 255), 121: (235, 186, 246, 255), 122: (238, 189, 250, 255), 123: (241, 191, 255, 255), 124: (241, 191, 255, 255), 125: (241, 192, 255, 255), 126: (241, 192, 255, 255), 127: (241, 193, 255, 255), 128: (242, 193, 255, 255), 129: (242, 194, 255, 255), 130: (242, 194, 255, 255), 131: (242, 195, 255, 255), 132: (242, 195, 255, 255), 133: (242, 196, 255, 255), 134: (242, 196, 255, 255), 135: (242, 196, 255, 255), 136: (242, 197, 255, 255), 137: (242, 197, 255, 255), 138: (243, 198, 255, 255), 139: (243, 198, 255, 255), 140: (243, 199, 255, 255), 141: (243, 199, 255, 255), 142: (243, 200, 255, 255), 143: (243, 200, 255, 255), 144: (243, 200, 255, 255), 145: (243, 201, 254, 255), 146: (243, 201, 254, 255), 147: (244, 202, 254, 255), 148: (244, 202, 254, 255), 149: (244, 203, 254, 255), 150: (244, 203, 254, 255), 151: (244, 204, 254, 255), 152: (244, 204, 254, 255), 153: (244, 205, 254, 255), 154: (244, 205, 254, 255), 155: (244, 205, 254, 255), 156: (245, 206, 254, 255), 157: (245, 206, 254, 255), 158: (245, 207, 254, 255), 159: (245, 207, 254, 255), 160: (245, 208, 254, 255), 161: (245, 208, 254, 255), 162: (245, 209, 254, 255), 163: (245, 209, 254, 255), 164: (245, 209, 254, 255), 165: (245, 210, 254, 255), 166: (246, 210, 254, 255), 167: (246, 211, 254, 255), 168: (246, 211, 254, 255), 169: (246, 212, 254, 255), 170: (246, 212, 254, 255), 171: (246, 213, 254, 255), 172: (246, 213, 254, 255), 173: (246, 214, 254, 255), 174: (246, 214, 254, 255), 175: (247, 214, 254, 255), 176: (247, 215, 254, 255), 177: (247, 215, 254, 255), 178: (247, 216, 254, 255), 179: (247, 216, 254, 255), 180: (247, 217, 254, 255), 181: (247, 217, 254, 255), 182: (247, 218, 254, 255), 183: (247, 218, 254, 255), 184: (248, 218, 254, 255), 185: (248, 219, 254, 255), 186: (248, 219, 254, 255), 187: (248, 220, 254, 255), 188: (248, 220, 254, 255), 189: (248, 221, 253, 255), 190: (248, 221, 253, 255), 191: (248, 222, 253, 255), 192: (248, 222, 253, 255), 193: (248, 223, 253, 255), 194: (249, 223, 253, 255), 195: (249, 223, 253, 255), 196: (249, 224, 253, 255), 197: (249, 224, 253, 255), 198: (249, 225, 253, 255), 199: (249, 225, 253, 255), 200: (249, 226, 253, 255), 201: (249, 226, 253, 255), 202: (249, 227, 253, 255), 203: (250, 227, 253, 255), 204: (250, 227, 253, 255), 205: (250, 228, 253, 255), 206: (250, 228, 253, 255), 207: (250, 229, 253, 255), 208: (250, 229, 253, 255), 209: (250, 230, 253, 255), 210: (250, 230, 253, 255), 211: (250, 231, 253, 255), 212: (251, 231, 253, 255), 213: (251, 232, 253, 255), 214: (251, 232, 253, 255), 215: (251, 232, 253, 255), 216: (251, 233, 253, 255), 217: (251, 233, 253, 255), 218: (251, 234, 253, 255), 219: (251, 234, 253, 255), 220: (251, 235, 253, 255), 221: (251, 235, 253, 255), 222: (252, 236, 253, 255), 223: (252, 236, 253, 255), 224: (252, 236, 253, 255), 225: (252, 237, 253, 255), 226: (252, 237, 253, 255), 227: (252, 238, 253, 255), 228: (252, 238, 253, 255), 229: (252, 239, 253, 255), 230: (252, 239, 253, 255), 231: (253, 240, 253, 255), 232: (253, 240, 253, 255), 233: (253, 241, 252, 255), 234: (253, 241, 252, 255), 235: (253, 241, 252, 255), 236: (253, 242, 252, 255), 237: (253, 242, 252, 255), 238: (253, 243, 252, 255), 239: (253, 243, 252, 255), 240: (254, 244, 252, 255), 241: (254, 244, 252, 255), 242: (254, 245, 252, 255), 243: (254, 245, 252, 255), 244: (254, 245, 252, 255), 245: (254, 246, 252, 255), 246: (254, 246, 252, 255), 247: (254, 247, 252, 255), 248: (254, 247, 252, 255), 249: (254, 248, 252, 255), 250: (255, 248, 252, 255), 251: (255, 249, 252, 255), 252: (255, 249, 252, 255), 253: (255, 250, 252, 255), 254: (255, 250, 252, 255), 255: (127, 127, 127, 0)}"
   ]
  },
  {
   "cell_type": "code",
   "execution_count": null,
   "id": "25c1c7f9-8919-4554-917e-7bc2739c8f17",
   "metadata": {},
   "outputs": [],
   "source": [
    "mapdict"
   ]
  },
  {
   "cell_type": "code",
   "execution_count": null,
   "id": "a5600edc-5d27-474e-9ddc-0eee881b61bc",
   "metadata": {},
   "outputs": [],
   "source": [
    "df = pd.DataFrame.from_dict(mapdict, orient='index', columns=['r','g','b','a'])\n",
    "df\n",
    "    "
   ]
  },
  {
   "cell_type": "code",
   "execution_count": null,
   "id": "ae7f73df-8d35-4414-99c8-6e9e71d86c3f",
   "metadata": {},
   "outputs": [],
   "source": [
    "str_r = ''\n",
    "str_g = ''\n",
    "str_b = ''\n",
    "str_a = ''\n",
    "for indicies in df.index.values:\n",
    "    str_r = str_r + f\"{indicies}:{df.loc[indicies,'r']},\"\n",
    "    str_g = str_g + f\"{indicies}:{df.loc[indicies,'g']},\"\n",
    "    str_b = str_b + f\"{indicies}:{df.loc[indicies,'b']},\"\n",
    "    str_a = str_a + f\"{indicies}:{df.loc[indicies,'a']},\"\n",
    "\n"
   ]
  },
  {
   "cell_type": "code",
   "execution_count": null,
   "id": "89ebfb58-cc9a-42ce-9036-3c7f8cdfc70d",
   "metadata": {},
   "outputs": [],
   "source": [
    "#str_r\n",
    "#str_g\n",
    "#str_b\n",
    "str_a\n"
   ]
  },
  {
   "cell_type": "code",
   "execution_count": null,
   "id": "8010406d-5b9d-4099-8a13-2181109f4f33",
   "metadata": {},
   "outputs": [],
   "source": []
  }
 ],
 "metadata": {
  "kernelspec": {
   "display_name": "testing_disco_tif_py3.10",
   "language": "python",
   "name": "testing_disco_tif_py3.10"
  },
  "language_info": {
   "codemirror_mode": {
    "name": "ipython",
    "version": 3
   },
   "file_extension": ".py",
   "mimetype": "text/x-python",
   "name": "python",
   "nbconvert_exporter": "python",
   "pygments_lexer": "ipython3",
   "version": "3.10.13"
  }
 },
 "nbformat": 4,
 "nbformat_minor": 5
}
